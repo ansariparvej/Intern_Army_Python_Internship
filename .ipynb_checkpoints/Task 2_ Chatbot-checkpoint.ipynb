{
 "cells": [
  {
   "cell_type": "markdown",
   "id": "c99699bf",
   "metadata": {},
   "source": [
    "# PYTHON INTERN @ INTERN ARMY"
   ]
  },
  {
   "cell_type": "markdown",
   "id": "ba3655b1",
   "metadata": {},
   "source": [
    "### AUTHOR : PARVEJ ALAM M. ANSARI"
   ]
  },
  {
   "cell_type": "markdown",
   "id": "b53be8f7",
   "metadata": {},
   "source": [
    "## Task_2: Create a chatbot using python, which can communicate with users, answers basic queries or perform simple tasks based on user input. Libraries like NLTK or ChatterBot could be helpful."
   ]
  },
  {
   "cell_type": "markdown",
   "id": "0a090043",
   "metadata": {},
   "source": [
    "## 1. Import required libraries"
   ]
  },
  {
   "cell_type": "code",
   "execution_count": 8,
   "id": "cfddaf21",
   "metadata": {},
   "outputs": [
    {
     "name": "stderr",
     "output_type": "stream",
     "text": [
      "[nltk_data] Downloading package punkt to /home/ali/nltk_data...\n",
      "[nltk_data]   Package punkt is already up-to-date!\n",
      "[nltk_data] Downloading package wordnet to /home/ali/nltk_data...\n",
      "[nltk_data]   Package wordnet is already up-to-date!\n"
     ]
    },
    {
     "data": {
      "text/plain": [
       "True"
      ]
     },
     "execution_count": 8,
     "metadata": {},
     "output_type": "execute_result"
    }
   ],
   "source": [
    "import nltk\n",
    "from nltk.chat.util import Chat, reflections\n",
    "\n",
    "# Download NLTK resources (if not downloaded)\n",
    "nltk.download('punkt')\n",
    "nltk.download('wordnet')"
   ]
  },
  {
   "cell_type": "code",
   "execution_count": 12,
   "id": "6c50fb11",
   "metadata": {},
   "outputs": [],
   "source": [
    "# Define conversation patterns and responses\n",
    "bot_responses = [\n",
    "    (r'hi', ['Hello, welcome to our online store! How can I assist you today?']),\n",
    "    (r'hello', ['Hi there! How can I help you with your shopping today?']),\n",
    "    (r'how are you', [\"I'm here to assist you with any queries. How can I help?\"]),\n",
    "    (r'bye', ['Thank you for visiting our store. Have a great day!']),\n",
    "    (r'I want to buy something', [\"That's great! What are you looking to purchase?\"]),\n",
    "    (r'Can you help me find a product\\?', [\"Of course, I'd be happy to assist. What are you searching for?\"]),\n",
    "    (r'Do you have any discounts or offers\\?', [\"Yes, we have ongoing discounts. Would you like me to check the current offers for you?\"]),\n",
    "    (r'I have a problem with my order', [\"I'm sorry to hear that. Please provide me with your order details so I can assist you.\"]),\n",
    "    (r'Can I track my order\\?', [\"Absolutely! Please provide your order ID, and I'll check the status for you.\"]),\n",
    "    (r'What payment methods do you accept\\?', [\"We accept various payment methods including credit/debit cards, PayPal, and more.\"]),\n",
    "    (r'Do you offer international shipping\\?', [\"Yes, we do offer international shipping to many countries. Where would you like your order shipped?\"]),\n",
    "    (r'Can I return an item\\?', [\"Certainly! Please review our return policy on our website for details.\"]),\n",
    "    (r'I need help with something else', [\"Sure, please let me know what you need assistance with.\"]),\n",
    "]"
   ]
  },
  {
   "cell_type": "code",
   "execution_count": 26,
   "id": "f585fa55",
   "metadata": {},
   "outputs": [],
   "source": [
    "def chatbot():\n",
    "    print(\"Hello! I'm your chatbot. You can start talking to me. Type 'quit' to exit.\")\n",
    "    chat = Chat(bot_responses, reflections)\n",
    "    while True:\n",
    "        user_input = input(\"You: \")\n",
    "        if user_input.lower() == 'quit':\n",
    "            print(\"Please keep visiting us, Goodbye!\")\n",
    "            break\n",
    "        else:\n",
    "            response = chat.respond(user_input)\n",
    "            print(\"Bot:\", response)"
   ]
  },
  {
   "cell_type": "code",
   "execution_count": 27,
   "id": "3909a8aa",
   "metadata": {},
   "outputs": [
    {
     "name": "stdout",
     "output_type": "stream",
     "text": [
      "Hello! I'm your chatbot. You can start talking to me. Type 'quit' to exit.\n",
      "You: quit\n",
      "Please keep visiting us, Goodbye!\n"
     ]
    }
   ],
   "source": [
    "chatbot()"
   ]
  },
  {
   "cell_type": "code",
   "execution_count": null,
   "id": "6294d1be",
   "metadata": {},
   "outputs": [],
   "source": []
  }
 ],
 "metadata": {
  "kernelspec": {
   "display_name": "Python 3 (ipykernel)",
   "language": "python",
   "name": "python3"
  },
  "language_info": {
   "codemirror_mode": {
    "name": "ipython",
    "version": 3
   },
   "file_extension": ".py",
   "mimetype": "text/x-python",
   "name": "python",
   "nbconvert_exporter": "python",
   "pygments_lexer": "ipython3",
   "version": "3.9.16"
  }
 },
 "nbformat": 4,
 "nbformat_minor": 5
}
