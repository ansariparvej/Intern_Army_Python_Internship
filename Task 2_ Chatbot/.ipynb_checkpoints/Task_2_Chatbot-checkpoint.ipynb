{
 "cells": [
  {
   "cell_type": "markdown",
   "id": "30fffbb5",
   "metadata": {
    "id": "30fffbb5"
   },
   "source": [
    "# PYTHON INTERN @ Intern Army"
   ]
  },
  {
   "cell_type": "markdown",
   "id": "cbc1f3b5",
   "metadata": {
    "id": "cbc1f3b5"
   },
   "source": [
    "### AUTHOR : PARVEJ ALAM M. ANSARI"
   ]
  },
  {
   "cell_type": "markdown",
   "id": "504b8c6f",
   "metadata": {
    "id": "504b8c6f"
   },
   "source": [
    "## Task_2: Create a chatbot using python, which can communicate with users, answers basic queries or perform simple tasks based on user input. Libraries like NLTK or ChatterBot could be helpful."
   ]
  },
  {
   "cell_type": "markdown",
   "id": "c3f5101e",
   "metadata": {
    "id": "c3f5101e"
   },
   "source": [
    "## 1. Import required libraries"
   ]
  },
  {
   "cell_type": "code",
   "execution_count": 1,
   "id": "HEHU5ZpjiU29",
   "metadata": {
    "id": "HEHU5ZpjiU29"
   },
   "outputs": [],
   "source": [
    "import nltk\n",
    "from nltk.chat.util import Chat, reflections"
   ]
  },
  {
   "cell_type": "markdown",
   "id": "H0DECVPBijk4",
   "metadata": {
    "id": "H0DECVPBijk4"
   },
   "source": [
    "## 2. Set of predefined responses."
   ]
  },
  {
   "cell_type": "code",
   "execution_count": 2,
   "id": "-Yuhek-WiU5i",
   "metadata": {
    "id": "-Yuhek-WiU5i"
   },
   "outputs": [],
   "source": [
    "# Using Regex to framing responses:\n",
    "responses = [\n",
    "    [\n",
    "        r\"my name is (.*)\",\n",
    "        [\"Hello %1, Good to see you. Do you have any questions for me?\", ]\n",
    "    ],\n",
    "    [\n",
    "        r\"(what is your name ?|who are you ?)\",\n",
    "        [\"My name is parvej and I'm your friend, let's chat ?\", ]\n",
    "    ],\n",
    "    [\n",
    "        r\"how are you ?\",\n",
    "        [\"I'm doing good.What about You ?\", ]\n",
    "    ],\n",
    "    [\n",
    "        r\"(.*)have friends ?\",\n",
    "        [\"I have many friends and just made a new friend! Hi friend :)\", ]\n",
    "    ],\n",
    "    [\n",
    "        r\"i am sorry (.*)\",\n",
    "        [\"Its alright\", \"Its OK, Never mind friend\", ]\n",
    "    ],\n",
    "    [\n",
    "        r\"i'm doing good\",\n",
    "        [\"Nice to hear that\", \"Alright :)\", ]\n",
    "    ],\n",
    "    [\n",
    "        r\"hi|hey|hello\",\n",
    "        [\"Hello\", \"Hey there\", ]\n",
    "    ],\n",
    "    [\n",
    "        r\"(.*) (your age|old are you) ?\",\n",
    "        [\"I'm a computer program .Still want to know my age?\", ]\n",
    "\n",
    "    ],\n",
    "    [\n",
    "        r\"what (.*) want ?\",\n",
    "        [\"I want to help you find answers !\", ]\n",
    "\n",
    "    ],\n",
    "    [\n",
    "        r\"(.*) (created you|made you) ?\",\n",
    "        [\"I am a result of ansari's exploration of NLTK Library\", ]\n",
    "    ],\n",
    "    [\n",
    "        r\"(.*) (location|city) ?\",\n",
    "        ['Gujarat, Mahesana', ]\n",
    "    ],\n",
    "    [\n",
    "        r\"how is weather in (.*)?\",\n",
    "        [\"Weather in %1 is awesome like always\", \"Its perfect here in %1\", \"Too cold man here in %1\",\n",
    "         \"I have heard about %1 You are lucky to stay in the beautiful city of %1\",]\n",
    "    ],\n",
    "    [\n",
    "        r\"i work in (.*)?\",\n",
    "        [\"%1 is an amazing company to work for, I have heard about it.\", \"Hope you love working in %1 :)\", ]\n",
    "    ],\n",
    "    [\n",
    "        r\"(.*)raining in (.*)\",\n",
    "        [\"You never know when it can rain here in %2\", \"Damn its raining too much here in %2\"]\n",
    "    ],\n",
    "    [\n",
    "        r\"how (.*) health(.*)\",\n",
    "        [\"I'm a computer program, so I'm always healthy \", ]\n",
    "    ],\n",
    "    [\n",
    "        r\"(.*) (sports|games) ?\",\n",
    "        [\"I'm a very big fan of Cricket\", ]\n",
    "    ],\n",
    "    [\n",
    "        r\"quit\",\n",
    "        [\"Bye take care. Hope to see you soon friend :) \", \"It was nice talking to you. See you soon :)\"]\n",
    "    ],\n",
    "    [\n",
    "        r\"(.*) have all answers ?\",\n",
    "        [\"I can help you with most of your questions :) \", \"May be he can help :https://www.google.com/\"]\n",
    "    ],\n",
    "    [\n",
    "        r\"(.*) siri\",\n",
    "        [\"Hey!! do you know her as well? What a small world! \", \"She is my best friend\"]\n",
    "    ],\n",
    "    [\n",
    "        r\"(.*) (direction|maps|i am lost)\",\n",
    "        [\"I think this is best for you: https://www.google.com/maps \", \"Are you lost? Keep calm and click here:https://www.google.com/maps\"]\n",
    "    ],\n",
    "    [\n",
    "        r\"(.*) (weather|weather forecast)\",\n",
    "        [\"You can check here: https://www.accuweather.com/en/in/india-weather Have a Good Day!!\"]\n",
    "    ],\n",
    "    [\n",
    "        r\"what (.*) like ?\",\n",
    "        [\"There's only one thing i like. Chatting!!!!!!\"]\n",
    "    ],\n",
    "]\n"
   ]
  },
  {
   "cell_type": "markdown",
   "id": "iSY3-13wpfFZ",
   "metadata": {
    "id": "iSY3-13wpfFZ"
   },
   "source": [
    "## 3. Define a function for a welcome message"
   ]
  },
  {
   "cell_type": "code",
   "execution_count": 3,
   "id": "cWpx0r62npbL",
   "metadata": {
    "id": "cWpx0r62npbL"
   },
   "outputs": [],
   "source": [
    "def personal_bot():\n",
    "    print(\"Hi, I'm personal_bot. Wanna chat? :) \\nPlease type lowercase English language to start a conversation. Type quit to leave \")\n"
   ]
  },
  {
   "cell_type": "markdown",
   "id": "fErXSC5Zpkmx",
   "metadata": {
    "id": "fErXSC5Zpkmx"
   },
   "source": [
    "## 4. Create an instance of Chat class containing responses (list of tuples containing set of question and answers) and reflections"
   ]
  },
  {
   "cell_type": "code",
   "execution_count": 4,
   "id": "oI-E-PEaiU8M",
   "metadata": {
    "colab": {
     "base_uri": "https://localhost:8080/"
    },
    "id": "oI-E-PEaiU8M",
    "outputId": "8661e067-80a2-4ed4-e414-65dc53cb3fb3"
   },
   "outputs": [
    {
     "name": "stdout",
     "output_type": "stream",
     "text": [
      "Hi, I'm personal_bot. Wanna chat? :) \n",
      "Please type lowercase English language to start a conversation. Type quit to leave \n"
     ]
    }
   ],
   "source": [
    "personal_bot()\n",
    "chat = Chat(responses, reflections)"
   ]
  },
  {
   "cell_type": "markdown",
   "id": "sFy20GBuqD8x",
   "metadata": {
    "id": "sFy20GBuqD8x"
   },
   "source": [
    "## 5. To trigger the conversation invoke the chat.coverse()"
   ]
  },
  {
   "cell_type": "code",
   "execution_count": 6,
   "id": "dL7CCiZ1qH5r",
   "metadata": {
    "colab": {
     "base_uri": "https://localhost:8080/"
    },
    "id": "dL7CCiZ1qH5r",
    "outputId": "ea7f7c6c-1d27-4744-8408-8772cc14cdfc"
   },
   "outputs": [
    {
     "name": "stdout",
     "output_type": "stream",
     "text": [
      "You: hi\n",
      "Bot: Hello\n",
      "You: my name is parvej ansari\n",
      "Bot: Hello parvej ansari, Good to see you. Do you have any questions for me?\n",
      "You: what is your name?\n",
      "Bot: My name is parvej and I'm your friend, let's chat ?\n",
      "You: what do you want?\n",
      "Bot: I want to help you find answers !\n",
      "You: who made you?\n",
      "Bot: I am a result of ansari's exploration of NLTK Library\n",
      "You: do you have all answers?\n",
      "Bot: I can help you with most of your questions :) \n",
      "You: do you know siri?\n",
      "Bot: She is my best friend\n",
      "You: i work in google.\n",
      "Bot: google. is an amazing company to work for, I have heard about it.\n",
      "You: how is your health?\n",
      "Bot: I'm a computer program, so I'm always healthy \n",
      "You: i am lost\n",
      "Bot: None\n",
      "You: what is your favorite game?\n",
      "Bot: None\n",
      "You: which sport do you like?\n",
      "Bot: None\n",
      "You: what do you like?\n",
      "Bot: There's only one thing i like. Chatting!!!!!!\n",
      "You: quit.\n",
      "Bot: Bye take care. Hope to see you soon friend :) \n",
      "You: bye\n",
      "Bot: None\n",
      "You: quit\n",
      "Goodbye!\n"
     ]
    }
   ],
   "source": [
    "while True:\n",
    "    user_input = input(\"You: \")\n",
    "    if user_input.lower() == 'quit':\n",
    "        print(\"Goodbye!\")\n",
    "        break\n",
    "    else:\n",
    "        response = chat.respond(user_input)\n",
    "        print(\"Bot:\", response)"
   ]
  },
  {
   "cell_type": "markdown",
   "id": "A_JHB3hhHxFd",
   "metadata": {
    "id": "A_JHB3hhHxFd"
   },
   "source": [
    "<p style=\"background-color:#F1C40F;color:black;font-size:22px;text-align:center;border-radius:10px 10px;font-weight:bold;border:2px solid #F1C40F;\">Thank you😄!!!!!!</p>"
   ]
  }
 ],
 "metadata": {
  "colab": {
   "provenance": []
  },
  "kernelspec": {
   "display_name": "Python 3 (ipykernel)",
   "language": "python",
   "name": "python3"
  },
  "language_info": {
   "codemirror_mode": {
    "name": "ipython",
    "version": 3
   },
   "file_extension": ".py",
   "mimetype": "text/x-python",
   "name": "python",
   "nbconvert_exporter": "python",
   "pygments_lexer": "ipython3",
   "version": "3.9.16"
  }
 },
 "nbformat": 4,
 "nbformat_minor": 5
}
