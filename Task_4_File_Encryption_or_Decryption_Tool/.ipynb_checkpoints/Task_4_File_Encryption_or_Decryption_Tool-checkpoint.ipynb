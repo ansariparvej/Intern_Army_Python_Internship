{
 "cells": [
  {
   "cell_type": "markdown",
   "metadata": {},
   "source": [
    "# PYTHON INTERN @ Intern Army"
   ]
  },
  {
   "cell_type": "markdown",
   "metadata": {},
   "source": [
    "### AUTHOR : PARVEJ ALAM M. ANSARI"
   ]
  },
  {
   "cell_type": "markdown",
   "metadata": {},
   "source": [
    "## Task_4: Create a tool that encrypts and decrypts files using different encryption algorithms. this project can involve cryptography concepts and libraries like cryptography or pycryptodome."
   ]
  },
  {
   "cell_type": "markdown",
   "metadata": {
    "id": "xFR88CZg2J4r"
   },
   "source": [
    "## 1. Import Necessary Libraries"
   ]
  },
  {
   "cell_type": "code",
   "execution_count": 1,
   "metadata": {
    "colab": {
     "base_uri": "https://localhost:8080/"
    },
    "id": "SkkxQyoc17vP",
    "outputId": "7902e260-a5bf-402c-f8b5-4f47b2baad96"
   },
   "outputs": [
    {
     "name": "stdout",
     "output_type": "stream",
     "text": [
      "Requirement already satisfied: cryptography in /home/ali/anaconda3/lib/python3.9/site-packages (37.0.4)\n",
      "Requirement already satisfied: cffi>=1.12 in /home/ali/anaconda3/lib/python3.9/site-packages (from cryptography) (1.15.1)\n",
      "Requirement already satisfied: pycparser in /home/ali/anaconda3/lib/python3.9/site-packages (from cffi>=1.12->cryptography) (2.21)\n"
     ]
    }
   ],
   "source": [
    "!pip install cryptography"
   ]
  },
  {
   "cell_type": "code",
   "execution_count": 2,
   "metadata": {
    "id": "DKEklhkd2Twi"
   },
   "outputs": [],
   "source": [
    "# `cryptography.hazmat.primitives`. This submodule contains low-level cryptographic primitives\n",
    "\n",
    "# Provides cryptographic hash functions\n",
    "from cryptography.hazmat.primitives import hashes\n",
    "\n",
    "# Offers support for cryptographic padding\n",
    "from cryptography.hazmat.primitives import padding\n",
    "\n",
    "# Components for symmetric encryption using various algorithms and modes\n",
    "from cryptography.hazmat.primitives.ciphers import Cipher, algorithms, modes\n",
    "\n",
    "# Imports the default cryptographic backend for performing operations\n",
    "from cryptography.hazmat.backends import default_backend\n",
    "\n",
    "# Used for handling operating system-related functionalities\n",
    "import os"
   ]
  },
  {
   "cell_type": "markdown",
   "metadata": {
    "id": "ySMCGic72bFu"
   },
   "source": [
    "## 2. Encryption Function"
   ]
  },
  {
   "cell_type": "code",
   "execution_count": 13,
   "metadata": {
    "id": "6WVQIxhx2Xuz"
   },
   "outputs": [],
   "source": [
    "def encrypt_file(input_file, output_file, algorithm='AES', key_length=32):\n",
    "    with open(input_file, 'rb') as file:\n",
    "        plaintext = file.read()\n",
    "\n",
    "    backend = default_backend() # Imports the default cryptographic backend for performing operations\n",
    "\n",
    "    # Generate a random key and initialization vector (IV)\n",
    "    key = os.urandom(key_length) # Generates a random key of the specified length\n",
    "    iv = os.urandom(16)  # Generates a random Initialization Vector (IV) of 16 bytes length for the chosen algorithm\n",
    "    \n",
    "    \n",
    "    # Initializes a Cipher object with the specified algorithm, key, IV, and mode of operation\n",
    "    if algorithm.upper() == 'AES':\n",
    "        cipher = Cipher(algorithms.AES(key), modes.CFB(iv), backend=backend) \n",
    "    else:\n",
    "        raise ValueError(\"Invalid algorithm name\")\n",
    "\n",
    "    encryptor = cipher.encryptor()\n",
    "    \n",
    "    # Encrypts the plaintext using the initialized encryptor object\n",
    "    ciphertext = encryptor.update(plaintext) + encryptor.finalize() \n",
    "\n",
    "    with open(output_file, 'wb') as file:\n",
    "        file.write(iv + ciphertext)\n",
    "\n",
    "    return key, plaintext, ciphertext"
   ]
  },
  {
   "cell_type": "markdown",
   "metadata": {
    "id": "_tMvrpCH2iAF"
   },
   "source": [
    "## 3. Decryption Function"
   ]
  },
  {
   "cell_type": "code",
   "execution_count": 14,
   "metadata": {
    "id": "TtH2upVH2fvC"
   },
   "outputs": [],
   "source": [
    "def decrypt_file(input_file, output_file, key, algorithm='AES'):\n",
    "    with open(input_file, 'rb') as file:\n",
    "        data = file.read()\n",
    "\n",
    "    backend = default_backend()\n",
    "\n",
    "    iv = data[:16]  # Extract IV from the beginning of the file\n",
    "    ciphertext = data[16:]  # Rest is the actual ciphertext\n",
    "\n",
    "    if algorithm.upper() == 'AES':\n",
    "        cipher = Cipher(algorithms.AES(key), modes.CFB(iv), backend=backend)\n",
    "    else:\n",
    "        raise ValueError(\"Invalid algorithm name\")\n",
    "\n",
    "    decryptor = cipher.decryptor()\n",
    "    decrypted_data = decryptor.update(ciphertext) + decryptor.finalize()\n",
    "\n",
    "    with open(output_file, 'wb') as file:\n",
    "        file.write(decrypted_data)\n",
    "\n",
    "    return decrypted_data, ciphertext"
   ]
  },
  {
   "cell_type": "markdown",
   "metadata": {
    "id": "1FoSQM832sTM"
   },
   "source": [
    "## 4. Usage Example"
   ]
  },
  {
   "cell_type": "code",
   "execution_count": 15,
   "metadata": {
    "id": "wy4kUwSh2pqn"
   },
   "outputs": [],
   "source": [
    "# Encrypt a file\n",
    "input_file_path = 'input_file.txt'\n",
    "encrypted_file_path = 'encrypted_file.enc'\n",
    "\n",
    "encryption_key, original_data, encrypted_data = encrypt_file(input_file_path, encrypted_file_path)"
   ]
  },
  {
   "cell_type": "code",
   "execution_count": 16,
   "metadata": {
    "id": "QyoNbTrp2xUw"
   },
   "outputs": [
    {
     "name": "stdout",
     "output_type": "stream",
     "text": [
      "Original Data:\n",
      "I am a Data Alchemist. I am here for the love of Artificial Intelligence and Data Science.\n"
     ]
    }
   ],
   "source": [
    "# Display original content\n",
    "print(\"Original Data:\")\n",
    "print(original_data.decode('utf-8'))"
   ]
  },
  {
   "cell_type": "code",
   "execution_count": 17,
   "metadata": {},
   "outputs": [
    {
     "name": "stdout",
     "output_type": "stream",
     "text": [
      "\n",
      "Encrypted Data:\n",
      "b\"\\x9c\\xa8I\\xa5}$\\xdevh7\\x01,\\x1a#%\\x80\\xaf\\xc9\\xf8\\xfba\\xb8\\x9e\\x07\\xb7\\xa4?\\x8a\\x0b\\xabF\\x9a\\x06\\xb4*\\x8d,\\xaek\\xf7\\xcd\\xd2i\\x194'\\xf9\\xdf&\\xc17%\\x96l{\\x88\\x946\\xa1XMljR\\x17\\x19m\\xb7\\x02\\xd1i\\x86q\\x9b\\x9b\\x14\\xb4\\x18\\xea\\xbb-\\xbb\\x06\\x8e\\xd3\\xad;\\x04k5\"\n"
     ]
    }
   ],
   "source": [
    "# Display encrypted content\n",
    "print(\"\\nEncrypted Data:\")\n",
    "print(encrypted_data)"
   ]
  },
  {
   "cell_type": "code",
   "execution_count": 18,
   "metadata": {},
   "outputs": [],
   "source": [
    "# Decrypt a file\n",
    "decrypted_file_path = 'decrypted_file.txt'\n",
    "\n",
    "decrypted_data, _ = decrypt_file(encrypted_file_path, decrypted_file_path, encryption_key)"
   ]
  },
  {
   "cell_type": "code",
   "execution_count": 19,
   "metadata": {},
   "outputs": [
    {
     "name": "stdout",
     "output_type": "stream",
     "text": [
      "\n",
      "Decrypted Data:\n",
      "I am a Data Alchemist. I am here for the love of Artificial Intelligence and Data Science.\n"
     ]
    }
   ],
   "source": [
    "# Display decrypted content\n",
    "print(\"\\nDecrypted Data:\")\n",
    "print(decrypted_data.decode('utf-8'))"
   ]
  },
  {
   "cell_type": "markdown",
   "metadata": {},
   "source": [
    "<p style=\"background-color:#F1C40F;color:black;font-size:22px;text-align:center;border-radius:10px 10px;font-weight:bold;border:2px solid #F1C40F;\">Thank you😄!!!!!!</p>"
   ]
  }
 ],
 "metadata": {
  "colab": {
   "provenance": []
  },
  "kernelspec": {
   "display_name": "Python 3 (ipykernel)",
   "language": "python",
   "name": "python3"
  },
  "language_info": {
   "codemirror_mode": {
    "name": "ipython",
    "version": 3
   },
   "file_extension": ".py",
   "mimetype": "text/x-python",
   "name": "python",
   "nbconvert_exporter": "python",
   "pygments_lexer": "ipython3",
   "version": "3.9.16"
  }
 },
 "nbformat": 4,
 "nbformat_minor": 1
}
